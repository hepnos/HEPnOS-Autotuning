{
 "cells": [
  {
   "cell_type": "code",
   "execution_count": null,
   "metadata": {},
   "outputs": [],
   "source": [
    "import pandas as pd\n",
    "import matplotlib.pyplot as plt\n",
    "import numpy as np\n",
    "\n",
    "%matplotlib inline"
   ]
  },
  {
   "cell_type": "code",
   "execution_count": null,
   "metadata": {},
   "outputs": [],
   "source": [
    "def best_objective(l, f=min):\n",
    "    r = [l[0]]\n",
    "    for li in l[1:]:\n",
    "        r.append(f(r[-1], li))\n",
    "    return r"
   ]
  },
  {
   "cell_type": "code",
   "execution_count": null,
   "metadata": {},
   "outputs": [],
   "source": [
    "df = {}\n",
    "case = \"model-4-true-true\"\n",
    "case = \"model-8-true-true\"\n",
    "\n",
    "# # deephyper-RF\n",
    "# df[\"deephyper-RF\"] = []\n",
    "# for i in range(1,6):\n",
    "#     df[\"deephyper-RF\"].append(pd.read_csv(f\"exp/deephyper_rf/{case}-{i}/results.csv\"))\n",
    "#     df[\"deephyper-RF\"][i-1][\"objective\"] = np.exp(-df[\"deephyper-RF\"][i-1][\"objective\"])\n",
    "\n",
    "# # deephyper-GP\n",
    "# df[\"deephyper-GP\"] = []\n",
    "# for i in range(1,6):\n",
    "#     df[\"deephyper-GP\"].append(pd.read_csv(f\"exp/deephyper_gp/{case}-{i}/results.csv\"))\n",
    "#     df[\"deephyper-GP\"][i-1][\"objective\"] = np.exp(-df[\"deephyper-GP\"][i-1][\"objective\"])\n",
    "    \n",
    "# # deephyper-DUMMY\n",
    "# df[\"deephyper-DUMMY\"] = []\n",
    "# for i in range(1,6):\n",
    "#     df[\"deephyper-DUMMY\"].append(pd.read_csv(f\"exp/deephyper_dummy/{case}-{i}/results.csv\"))\n",
    "#     df[\"deephyper-DUMMY\"][i-1][\"objective\"] = np.exp(-df[\"deephyper-DUMMY\"][i-1][\"objective\"])\n",
    "\n",
    "    \n",
    "# # optuna-TPE\n",
    "# df[\"optuna-TPE\"] = []\n",
    "# for i in range(1,6):\n",
    "#     df[\"optuna-TPE\"].append(pd.read_csv(f\"exp/optuna_tpe/{case}-{i}/results.csv\"))\n",
    "#     df[\"optuna-TPE\"][i-1][\"objective\"] = np.exp(df[\"optuna-TPE\"][i-1][\"objective\"])\n",
    "    \n",
    "# optuna-CMAES\n",
    "# df[\"optuna-CMAES\"] = []\n",
    "# for i in range(1,6):\n",
    "#     df[\"optuna-CMAES\"].append(pd.read_csv(f\"exp/optuna_cmaes/{case}-{i}/results.csv\"))\n",
    "#     df[\"optuna-CMAES\"][i-1][\"objective\"] = np.exp(df[\"optuna-CMAES\"][i-1][\"objective\"])\n",
    "\n",
    "# GPTune\n",
    "df[\"gptune\"] = []\n",
    "for i in range(1,6):\n",
    "    df[\"gptune\"].append(pd.read_csv(f\"exp/gptune/{case}-{i}/results.csv\"))\n",
    "    df[\"gptune\"][i-1][\"objective\"] = np.exp(df[\"gptune\"][i-1][\"objective\"])\n",
    "\n",
    "colors = {\n",
    "    \"deephyper-RF\": \"orange\",\n",
    "    \"deephyper-GP\": \"cyan\",\n",
    "    \"deephyper-DUMMY\": \"lime\",\n",
    "    \"optuna-TPE\": \"red\",\n",
    "    \"optuna-CMAES\": \"yellow\",\n",
    "    \"gptune\": \"purple\",\n",
    "}"
   ]
  },
  {
   "cell_type": "code",
   "execution_count": null,
   "metadata": {},
   "outputs": [],
   "source": [
    "plt.figure()\n",
    "\n",
    "for k, df_list in df.items():\n",
    "    for i, df_i in enumerate(df_list):\n",
    "        subdf = df_i.iloc[:100]\n",
    "        x = list(range(len(subdf[\"objective\"])))\n",
    "        y = subdf[\"objective\"]\n",
    "        if i == 0:\n",
    "            plt.scatter(x, y, s=10, color=colors[k], label=k)\n",
    "        else:\n",
    "            plt.scatter(x, y, s=10, color=colors[k])\n",
    "\n",
    "plt.legend()\n",
    "plt.xlim(0, 100)\n",
    "plt.xlabel(\"Search Iteration\")\n",
    "plt.ylabel(\"Objective\")\n",
    "plt.show()"
   ]
  },
  {
   "cell_type": "code",
   "execution_count": null,
   "metadata": {},
   "outputs": [],
   "source": [
    "plt.figure(figsize=(10, 5))\n",
    "\n",
    "x = np.arange(100)\n",
    "for k, df_list in df.items():\n",
    "    Y = []\n",
    "    for i, df_i in enumerate(df_list):\n",
    "        subdf = df_i.iloc[:100]\n",
    "        Y.append(best_objective(subdf[\"objective\"]))\n",
    "    Y = np.asarray(Y)\n",
    "    y_mean = Y.mean(axis=0)\n",
    "    y_std = Y.std(axis=0)\n",
    "    plt.plot(x, y_mean, color=colors[k], label=k)\n",
    "#     plt.fill_between(x, y_mean - 1.96*y_std, y_mean + 1.96*y_std, color=colors[k], alpha=0.2)\n",
    "\n",
    "plt.legend()\n",
    "plt.xlim(0, 100)\n",
    "plt.xlabel(\"Search Iteration\")\n",
    "plt.ylabel(\"Objective\")\n",
    "plt.yscale(\"log\")\n",
    "plt.grid()\n",
    "plt.show()"
   ]
  },
  {
   "cell_type": "code",
   "execution_count": null,
   "metadata": {},
   "outputs": [],
   "source": []
  },
  {
   "cell_type": "code",
   "execution_count": null,
   "metadata": {},
   "outputs": [],
   "source": []
  }
 ],
 "metadata": {
  "kernelspec": {
   "display_name": "Python 3",
   "language": "python",
   "name": "python3"
  },
  "language_info": {
   "codemirror_mode": {
    "name": "ipython",
    "version": 3
   },
   "file_extension": ".py",
   "mimetype": "text/x-python",
   "name": "python",
   "nbconvert_exporter": "python",
   "pygments_lexer": "ipython3",
   "version": "3.7.6"
  }
 },
 "nbformat": 4,
 "nbformat_minor": 5
}
